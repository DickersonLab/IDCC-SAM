{
  "nbformat": 4,
  "nbformat_minor": 0,
  "metadata": {
    "colab": {
      "provenance": []
    },
    "kernelspec": {
      "name": "python3",
      "display_name": "Python 3"
    },
    "language_info": {
      "name": "python"
    }
  },
  "cells": [
    {
      "cell_type": "markdown",
      "source": [
        "## Mount GDrive"
      ],
      "metadata": {
        "id": "6A6-UhwHCcAd"
      }
    },
    {
      "cell_type": "code",
      "source": [
        "from google.colab import drive\n",
        "drive.mount('/content/drive')"
      ],
      "metadata": {
        "colab": {
          "base_uri": "https://localhost:8080/"
        },
        "id": "8bDKuB2KfBot",
        "outputId": "17dac93e-39b9-4310-ade6-34cf9d5654cb"
      },
      "execution_count": null,
      "outputs": [
        {
          "output_type": "stream",
          "name": "stdout",
          "text": [
            "Mounted at /content/drive\n"
          ]
        }
      ]
    },
    {
      "cell_type": "markdown",
      "source": [
        "### Select and Structure images from IDCIA into IDCC-SAM Train and Test"
      ],
      "metadata": {
        "id": "-2Vmw0AIovfv"
      }
    },
    {
      "cell_type": "code",
      "source": [
        "import os\n",
        "import shutil\n",
        "\n",
        "# Define the main image folder and the target folders for selected images\n",
        "main_image_folder = '/content/drive/MyDrive/Final IDCC-SAM/Dataset/IDCIA_original'\n",
        "target_folder_test = '/content/drive/MyDrive/Final IDCC-SAM/Dataset/Rebuttal/IDCIA/Test'\n",
        "target_folder_train = '/content/drive/MyDrive/Final IDCC-SAM/Dataset/Rebuttal/IDCIA/Train/cell_images'\n",
        "\n",
        "\n",
        "# Create the target folders if they don't exist\n",
        "if not os.path.exists(target_folder_test):\n",
        "    os.makedirs(target_folder_test)\n",
        "\n",
        "if not os.path.exists(target_folder_train):\n",
        "    os.makedirs(target_folder_train)\n",
        "\n",
        "# Function to copy selected images from main folder to the target folder\n",
        "def copy_selected_images(source_folder, target_folder, num_images):\n",
        "    # Get the list of images sorted by name\n",
        "    image_list = sorted(os.listdir(source_folder))\n",
        "\n",
        "    # Select a specific number of images based on the folder name\n",
        "    if 'DAPI' in source_folder:\n",
        "        selected_images = image_list[:num_images]\n",
        "    else:\n",
        "        selected_images = image_list[:num_images]\n",
        "\n",
        "    # Copy the selected images to the target folder\n",
        "    for image_name in selected_images:\n",
        "        source_path = os.path.join(source_folder, image_name)\n",
        "        target_path = os.path.join(target_folder, image_name)\n",
        "        shutil.copyfile(source_path, target_path)\n",
        "\n",
        "# Iterate over the subfolders\n",
        "for folder_name in os.listdir(main_image_folder):\n",
        "    folder_path = os.path.join(main_image_folder, folder_name)\n",
        "\n",
        "    # Check if it's a directory\n",
        "    if os.path.isdir(folder_path):\n",
        "        # Select the number of images based on the folder name\n",
        "        if folder_name != 'DAPI':\n",
        "            num_images_selected = 10\n",
        "            num_images_remaining = len(os.listdir(folder_path)) - num_images_selected\n",
        "        else:\n",
        "            num_images_selected = 40\n",
        "            num_images_remaining = len(os.listdir(folder_path)) - num_images_selected\n",
        "\n",
        "        # Copy selected images from the current folder to the target folder for selected images\n",
        "        copy_selected_images(folder_path, target_folder_test, num_images_selected)\n",
        "\n",
        "        # Copy remaining images from the current folder to the target folder for remaining images\n",
        "        for image_name in os.listdir(folder_path)[num_images_selected:]:\n",
        "            source_path = os.path.join(folder_path, image_name)\n",
        "            target_path = os.path.join(target_folder_train, image_name)\n",
        "            shutil.copyfile(source_path, target_path)\n",
        "\n",
        "print(\"Selected and remaining images copied to the respective target folders.\")"
      ],
      "metadata": {
        "colab": {
          "base_uri": "https://localhost:8080/"
        },
        "id": "zL2UnxkFkWVr",
        "outputId": "209614db-b2e3-4a25-b8ee-4e18cb48c650"
      },
      "execution_count": null,
      "outputs": [
        {
          "output_type": "stream",
          "name": "stdout",
          "text": [
            "Selected and remaining images copied to the respective target folders.\n"
          ]
        }
      ]
    },
    {
      "cell_type": "markdown",
      "source": [
        "### Now let us find and move matching label masks of the training images into IDCC-SAM too"
      ],
      "metadata": {
        "id": "l1Px3fYEo2V0"
      }
    },
    {
      "cell_type": "code",
      "source": [
        "import os\n",
        "import shutil\n",
        "\n",
        "# Define paths\n",
        "path_A = '/content/drive/MyDrive/Final IDCC-SAM/Dataset/Rebuttal/IDCIA/Train/cell_images' #Target cell images\n",
        "path_B = '/content/drive/MyDrive/Final IDCC-SAM/Dataset/Rebuttal/IDCIA/Train/label masks' # Target cell masks\n",
        "path_C = '/content/drive/MyDrive/Final IDCC-SAM/Dataset/IDCIA_original_mask' # Source cell masks\n",
        "\n",
        "# Create path_B if it doesn't exist\n",
        "if not os.path.exists(path_B):\n",
        "    os.makedirs(path_B)\n",
        "\n",
        "# Get list of files in path_A\n",
        "files_A = os.listdir(path_A)\n",
        "\n",
        "# Iterate through files in path_A\n",
        "for file_A in files_A:\n",
        "    # Check if the file is a TIFF image\n",
        "    if file_A.endswith('.tiff'):\n",
        "        # Construct the corresponding file name in path_C\n",
        "        file_C = file_A[:-5] + '.png'\n",
        "\n",
        "        # Check if the corresponding file exists in path_C\n",
        "        if os.path.exists(os.path.join(path_C, file_C)):\n",
        "            # Copy the file from path_C to path_B\n",
        "            shutil.copyfile(os.path.join(path_C, file_C), os.path.join(path_B, file_C))\n",
        "\n",
        "print(\"Matching images copied from path C to path B.\")\n"
      ],
      "metadata": {
        "colab": {
          "base_uri": "https://localhost:8080/"
        },
        "id": "DK1CPGgyo9Ey",
        "outputId": "69e83b39-0b1b-46d1-92db-cebfc834f178"
      },
      "execution_count": null,
      "outputs": [
        {
          "output_type": "stream",
          "name": "stdout",
          "text": [
            "Matching images copied from path C to path B.\n"
          ]
        }
      ]
    },
    {
      "cell_type": "markdown",
      "source": [
        "### Now let us find and move matching label masks of the testing images into IDCC too"
      ],
      "metadata": {
        "id": "T01XLwpWcDh5"
      }
    },
    {
      "cell_type": "code",
      "source": [
        "import os\n",
        "import shutil\n",
        "\n",
        "# Define paths\n",
        "path_A = '/content/drive/MyDrive/Final IDCC-SAM/Dataset/Rebuttal/IDCIA/Test' #Target cell images\n",
        "path_B = '/content/drive/MyDrive/Final IDCC-SAM/Dataset/Rebuttal/IDCIA/Test_label masks' # Target cell masks\n",
        "path_C = '/content/drive/MyDrive/Final IDCC-SAM/Dataset/IDCIA_original_mask' #Source cell masks\n",
        "\n",
        "#Create path_B if it doesn't exist\n",
        "if not os.path.exists(path_B):\n",
        "    os.makedirs(path_B)\n",
        "\n",
        "# Get list of files in path_A\n",
        "files_A = os.listdir(path_A)\n",
        "\n",
        "# Iterate through files in path_A\n",
        "for file_A in files_A:\n",
        "    # Check if the file is a TIFF image\n",
        "    if file_A.endswith('.tiff'):\n",
        "        # Construct the corresponding file name in path_C\n",
        "        file_C = file_A[:-5] + '.png'\n",
        "\n",
        "        # Check if the corresponding file exists in path_C\n",
        "        if os.path.exists(os.path.join(path_C, file_C)):\n",
        "            # Copy the file from path_C to path_B\n",
        "            shutil.copyfile(os.path.join(path_C, file_C), os.path.join(path_B, file_C))\n",
        "\n",
        "print(\"Matching images copied from path C to path B.\")\n"
      ],
      "metadata": {
        "colab": {
          "base_uri": "https://localhost:8080/"
        },
        "id": "q0HHbwxHcFOK",
        "outputId": "10f77b24-d996-44d1-d64a-77c10792236e"
      },
      "execution_count": null,
      "outputs": [
        {
          "output_type": "stream",
          "name": "stdout",
          "text": [
            "Matching images copied from path C to path B.\n"
          ]
        }
      ]
    }
  ]
}