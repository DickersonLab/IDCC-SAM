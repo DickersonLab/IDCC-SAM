{
  "cells": [
    {
      "cell_type": "markdown",
      "source": [
        "### Mount GDrive"
      ],
      "metadata": {
        "id": "ejo6bzaQwSzq"
      }
    },
    {
      "cell_type": "code",
      "source": [
        "from google.colab import drive\n",
        "drive.mount('/content/drive')"
      ],
      "metadata": {
        "colab": {
          "base_uri": "https://localhost:8080/"
        },
        "id": "9IthAGxZyar-",
        "outputId": "82f68dcd-9296-4d87-e4a9-703aba8f360c"
      },
      "execution_count": 1,
      "outputs": [
        {
          "output_type": "stream",
          "name": "stdout",
          "text": [
            "Mounted at /content/drive\n"
          ]
        }
      ]
    },
    {
      "cell_type": "markdown",
      "source": [
        "### Install and Import SAM"
      ],
      "metadata": {
        "id": "RNz-IhotwXTr"
      }
    },
    {
      "cell_type": "code",
      "source": [
        "%cd \"/content/drive/MyDrive/Final IDCC-SAM/\"\n",
        "\n",
        "!git clone https://github.com/facebookresearch/segment-anything.git\n",
        "!cd segment-anything; pip install -e.\n",
        "\n",
        "!pip install git+https://github.com/facebookresearch/segment-anything.git"
      ],
      "metadata": {
        "id": "FkHuBY-3ycuM"
      },
      "execution_count": null,
      "outputs": []
    },
    {
      "cell_type": "code",
      "source": [
        "import os\n",
        "import cv2\n",
        "import numpy as np\n",
        "from google.colab.patches import cv2_imshow\n",
        "import matplotlib.pyplot as plt\n",
        "from segment_anything import sam_model_registry,  SamAutomaticMaskGenerator, SamPredictor"
      ],
      "metadata": {
        "id": "ij2-vhQJygjx"
      },
      "execution_count": 3,
      "outputs": []
    },
    {
      "cell_type": "code",
      "source": [
        "if not os.path.exists(\"/content/drive/MyDrive/Final IDCC-SAM/segment-anything/sam_vit_h_4b8939.pth\"):\n",
        "  !wget https://dl.fbaipublicfiles.com/segment_anything/sam_vit_h_4b8939.pth -O /content/drive/MyDrive/Final IDCC-SAM/segment-anything/sam_vit_h_4b8939.pth"
      ],
      "metadata": {
        "id": "DEYxZMpIzf2j"
      },
      "execution_count": 4,
      "outputs": []
    },
    {
      "cell_type": "markdown",
      "source": [
        "### Define SAM Mask Generator Functions"
      ],
      "metadata": {
        "id": "Tyq2lE5yQ434"
      }
    },
    {
      "cell_type": "code",
      "source": [
        "# This script defines a function to visualize annotations (masks) and provides functionality\n",
        "# to use the Segment Anything Model (SAM) for generating automatic masks.\n",
        "\n",
        "import sys\n",
        "sys.path.append(\"..\")\n",
        "from segment_anything import sam_model_registry, SamAutomaticMaskGenerator, SamPredictor\n",
        "\n",
        "# Path to the SAM model checkpoint, downloaded during installation\n",
        "sam_checkpoint = \"/content/drive/MyDrive/Final IDCC-SAM/segment-anything/sam_vit_h_4b8939.pth\"\n",
        "\n",
        "#Use the visual transformer backbone\n",
        "model_type = \"vit_h\"\n",
        "\n",
        "device = \"cuda\"\n",
        "\n",
        "# Load the SAM model from the registry using the provided checkpoint\n",
        "sam = sam_model_registry[model_type](checkpoint=sam_checkpoint)\n",
        "sam.to(device=device)\n",
        "\n",
        "# Create a mask generator using the SAM model\n",
        "#mask_generator = SamAutomaticMaskGenerator(sam)\n",
        "mask_generator = SamAutomaticMaskGenerator(\n",
        "     model=sam,\n",
        "     pred_iou_thresh=0.8\n",
        " )\n",
        "def show_anns(anns):\n",
        "\n",
        "  #Display annotations (masks) on the current plot.\n",
        "    #Parameters:\n",
        "        #anns (list): List of annotations, each containing a segmentation mask.\n",
        "\n",
        "    if len(anns) == 0:\n",
        "        return\n",
        "\n",
        "    # Sort annotations based on area in descending order\n",
        "    sorted_anns = sorted(anns, key=(lambda x: x['area']), reverse=True)\n",
        "    ax = plt.gca()\n",
        "    ax.set_autoscale_on(False)\n",
        "    polygons = []\n",
        "    color = []\n",
        "    # Plot each annotation\n",
        "    for ann in sorted_anns:\n",
        "        m = ann['segmentation'] # Segmentation mask\n",
        "        img = np.ones((m.shape[0], m.shape[1], 3)) # Create an RGB image\n",
        "        color_mask = np.random.random((1, 3)).tolist()[0] # Generate a random color\n",
        "        for i in range(3):\n",
        "            img[:,:,i] = color_mask[i] # Assign the color to each channel\n",
        "        ax.imshow(np.dstack((img, m*0.35))) # Overlay the mask on the image with transparency"
      ],
      "metadata": {
        "id": "2sOqYkBkyjBu"
      },
      "execution_count": 5,
      "outputs": []
    },
    {
      "cell_type": "markdown",
      "source": [
        "### Zero-Shot Segmentation Run SAM on all images in a loop and generate masks"
      ],
      "metadata": {
        "id": "ZzP0K6aeanRG"
      }
    },
    {
      "cell_type": "code",
      "source": [
        "import cv2\n",
        "import numpy as np\n",
        "import os\n",
        "import pandas as pd\n",
        "\n",
        "# Path to the folder containing the images\n",
        "folder_path = '/content/drive/MyDrive/Final IDCC-SAM/Dataset/IDCC_Images/Test_clahe/'\n",
        "\n",
        "# Get the list of image filenames and sort them in ascending order\n",
        "image_filenames = sorted(os.listdir(folder_path))\n",
        "\n",
        "# Load the ground truth Excel file\n",
        "excel_file_path = '/content/drive/MyDrive/Final IDCC-SAM/Dataset/summarized ground truths/overall/overall_ground_truth.xlsx'\n",
        "ground_truth_df = pd.read_excel(excel_file_path)\n",
        "\n",
        "# Create lists to store our prediction results summary information at the end\n",
        "summary_data = []\n",
        "\n",
        "# Loop through each image\n",
        "for filename in image_filenames:\n",
        "    # Load the original image\n",
        "    image_path = os.path.join(folder_path, filename)\n",
        "    original_image = cv2.imread(image_path, 0)\n",
        "\n",
        "    # Convert image to RGB and then Generate masks\n",
        "    image= cv2.cvtColor(original_image, cv2.COLOR_BGR2RGB)\n",
        "    masks = mask_generator.generate(image)\n",
        "\n",
        "    # For our evaluation, let's extract number of cells from ground truth Excel files\n",
        "    image_name = os.path.splitext(filename)[0]  # Remove file extension\n",
        "    matching_row = ground_truth_df[ground_truth_df['filename'] == image_name + '.csv']\n",
        "    num_cells_gt = matching_row['number_of_cells'].values[0] if not matching_row.empty else 'Unknown'\n",
        "\n",
        "    # Calculate the absolute difference between ground truth and mask length\n",
        "    abs_diff = abs(num_cells_gt - len(masks))\n",
        "    abs_diff_str = f'Abs Diff: {abs_diff}' if num_cells_gt != 'Unknown' else 'Abs Diff: Unknown'\n",
        "\n",
        "    # Calculate the absolute percentage accuracy\n",
        "    abs_percentage_accuracy = f'{(1 - abs_diff / num_cells_gt) * 100:.2f}%' if num_cells_gt != 'Unknown' and num_cells_gt != 0 else 'Unknown'\n",
        "\n",
        "    # Add summary data to list\n",
        "    summary_data.append({\n",
        "        'Image Name': image_name,\n",
        "        'Ground Truth': num_cells_gt,\n",
        "        'Prediction': len(masks),\n",
        "        'Absolute Difference': abs_diff\n",
        "    })\n",
        "\n",
        "# Create DataFrame from summary data\n",
        "summary_df = pd.DataFrame(summary_data)\n",
        "\n",
        "# Save summary data to Excel file\n",
        "summary_excel_path = '/content/drive/MyDrive/Final IDCC-SAM/IDCC-SAM Test Results/IDCC-SAM final prediction_summary.xlsx'\n",
        "summary_df.to_excel(summary_excel_path, index=False)"
      ],
      "metadata": {
        "id": "ZVL4H5p_CpRG"
      },
      "execution_count": 6,
      "outputs": []
    },
    {
      "cell_type": "markdown",
      "source": [
        "Label the prediction with the image type"
      ],
      "metadata": {
        "id": "3BMjK0pK5AXX"
      }
    },
    {
      "cell_type": "code",
      "source": [
        "import pandas as pd\n",
        "\n",
        "# Read the Excel file\n",
        "excel_file = '/content/drive/MyDrive/Final IDCC-SAM/IDCC-SAM Test Results/IDCC-SAM final prediction_summary.xlsx'\n",
        "df = pd.read_excel(excel_file)\n",
        "\n",
        "# Add a new column \"Image Type\" with initial value as empty string\n",
        "df['Image Type'] = ''\n",
        "\n",
        "# Function to label Image Type based on Image Name\n",
        "def label_image_type(image_name):\n",
        "    # Convert image name to lowercase for case-insensitive comparison\n",
        "    image_name_lower = image_name.lower()\n",
        "\n",
        "    # Check if image name contains both \"DAPI\" and any of the other specified substrings\n",
        "    if 'dapi' in image_name_lower:\n",
        "        for substring in ['ki67', 'gfab', 'map2ab', 'nestin', 'rip', 'tuj1']:\n",
        "            if substring in image_name_lower:\n",
        "                return 'DAPI'\n",
        "    # Check if image name contains any of the specified substrings\n",
        "    if 'gfap' in image_name_lower and 'dapi' not in image_name_lower:\n",
        "        return 'GFAP'\n",
        "    elif 'ki67' in image_name_lower and 'dapi' not in image_name_lower:\n",
        "        return 'KI67'\n",
        "    elif 'map2ab' in image_name_lower and 'dapi' not in image_name_lower:\n",
        "        return 'MAP2ab'\n",
        "    elif 'nestin' in image_name_lower and 'dapi' not in image_name_lower:\n",
        "        return 'Nestin'\n",
        "    elif 'rip' in image_name_lower and 'dapi' not in image_name_lower:\n",
        "        return 'RIP'\n",
        "    elif 'tuj1' in image_name_lower and 'dapi' not in image_name_lower:\n",
        "        return 'TuJ1'\n",
        "    else:\n",
        "        return 'DAPI'\n",
        "\n",
        "# Apply the function to label Image Type based on Image Name\n",
        "df['Image Type'] = df['Image Name'].apply(label_image_type)\n",
        "\n",
        "# Save the updated DataFrame to the Excel file\n",
        "df.to_excel(excel_file, index=False)\n",
        "\n",
        "print(\"Image Type column added and labeling completed.\")\n"
      ],
      "metadata": {
        "colab": {
          "base_uri": "https://localhost:8080/"
        },
        "id": "Y0vps39D4_AY",
        "outputId": "a6aad3fb-2ef8-46b4-db79-c74bb1bb65a0"
      },
      "execution_count": 7,
      "outputs": [
        {
          "output_type": "stream",
          "name": "stdout",
          "text": [
            "Image Type column added and labeling completed.\n"
          ]
        }
      ]
    },
    {
      "cell_type": "code",
      "source": [
        "import pandas as pd\n",
        "\n",
        "# Read the Excel file\n",
        "excel_file = '/content/drive/MyDrive/Final IDCC-SAM/IDCC-SAM Test Results/IDCC-SAM final prediction_summary.xlsx'\n",
        "df = pd.read_excel(excel_file)\n",
        "\n",
        "# Function to calculate the analysis\n",
        "def calculate_analysis(group):\n",
        "    # Filter rows where \"Absolute Difference\" column is <= 10\n",
        "    filtered_rows = group[group['Absolute Difference'] <= 10]\n",
        "    # Calculate the count of such rows\n",
        "    count = len(filtered_rows)\n",
        "    # Calculate the total count of rows for the image type\n",
        "    total_count = len(group)\n",
        "    # Calculate the ratio of filtered rows to total rows\n",
        "    ratio = count / total_count if total_count > 0 else 0\n",
        "    return ratio\n",
        "\n",
        "# Group by \"Image Type\" and apply the analysis function\n",
        "analysis_result = df.groupby('Image Type').apply(calculate_analysis)\n",
        "\n",
        "# Add the analysis result to the DataFrame\n",
        "df['Analysis Result'] = df['Image Type'].map(analysis_result)\n",
        "\n",
        "# Save the DataFrame back to the Excel file\n",
        "df.to_excel(excel_file, index=False)\n",
        "\n",
        "print(\"Analysis result saved to Excel file.\")\n"
      ],
      "metadata": {
        "colab": {
          "base_uri": "https://localhost:8080/"
        },
        "id": "OnEzMU0CBzsU",
        "outputId": "4293c7a5-8281-43e2-e507-e919c3f5bae4"
      },
      "execution_count": 8,
      "outputs": [
        {
          "output_type": "stream",
          "name": "stdout",
          "text": [
            "Analysis result saved to Excel file.\n"
          ]
        }
      ]
    },
    {
      "cell_type": "markdown",
      "source": [
        "### For Visualization purpose, generate and save the final segmentation output images from SAM"
      ],
      "metadata": {
        "id": "_O2g-4ZhfXmY"
      }
    },
    {
      "cell_type": "markdown",
      "source": [
        "Segment with multicolor"
      ],
      "metadata": {
        "id": "ZQBa58uM8SIF"
      }
    },
    {
      "cell_type": "code",
      "source": [
        "import cv2\n",
        "import numpy as np\n",
        "import matplotlib.pyplot as plt\n",
        "import os\n",
        "import pandas as pd\n",
        "\n",
        "# Function to generate random colors\n",
        "def generate_random_colors(num_colors):\n",
        "    return np.random.rand(num_colors, 3)  # Generate random RGB values in the range [0, 1]\n",
        "\n",
        "\n",
        "# Path to the folder containing the images\n",
        "folder_path = '/content/drive/MyDrive/Final IDCC-SAM/Dataset/IDCC_Images/Test_clahe/'\n",
        "\n",
        "# Get the list of image filenames and sort them in ascending order\n",
        "image_filenames = sorted(os.listdir(folder_path))\n",
        "\n",
        "# Load the ground truth Excel file\n",
        "excel_file_path = '/content/drive/MyDrive/Final IDCC-SAM/Dataset/summarized ground truths/overall/overall_ground_truth.xlsx'  # Replace with the actual path\n",
        "ground_truth_df = pd.read_excel(excel_file_path)\n",
        "\n",
        "# Create lists to store prediction summary information\n",
        "summary_data = []\n",
        "\n",
        "# Calculate the number of rows and columns for subplots\n",
        "num_images = len(image_filenames)\n",
        "num_columns = 2\n",
        "num_rows = num_images\n",
        "\n",
        "# Create a directory to save the plots as images\n",
        "output_folder = '/content/drive/MyDrive/Final IDCC-SAM/IDCC-SAM Test Results/final 100 segmentation-output-images'\n",
        "os.makedirs(output_folder, exist_ok=True)\n",
        "\n",
        "for i, filename in enumerate(image_filenames, 1):\n",
        "    # Load the original image\n",
        "    image_path = os.path.join(folder_path, filename)\n",
        "    original_image = cv2.imread(image_path, 0)\n",
        "\n",
        "    # Load the masks (assuming you have a function called 'mask_generator.generate' that generates masks)\n",
        "    image= cv2.cvtColor(original_image, cv2.COLOR_BGR2RGB)\n",
        "    masks = mask_generator.generate(image)\n",
        "\n",
        "    # Extract number of cells from ground truth Excel file\n",
        "    image_name = os.path.splitext(filename)[0]  # Remove file extension\n",
        "    matching_row = ground_truth_df[ground_truth_df['filename'] == image_name + '.csv']\n",
        "    num_cells_gt = matching_row['number_of_cells'].values[0] if not matching_row.empty else 'Unknown'\n",
        "\n",
        "    # Calculate the absolute difference between ground truth and mask length\n",
        "    abs_diff = abs(num_cells_gt - len(masks))\n",
        "    num_cells = f'Pred: {len(masks)}' if num_cells_gt != 'Unknown' else 'Abs Diff: Unknown'\n",
        "    abs_diff_str = f'Abs Diff: {abs_diff}' if num_cells_gt != 'Unknown' else 'Abs Diff: Unknown'\n",
        "\n",
        "    # Add summary data to list\n",
        "    summary_data.append({\n",
        "        'Image Name': image_name,\n",
        "        'Ground Truth': num_cells_gt,\n",
        "        'Prediction': len(masks),\n",
        "        'Absolute Difference': abs_diff\n",
        "    })\n",
        "\n",
        "    # Create the plot\n",
        "    plt.figure(figsize=(8, 4))  # Adjusted figsize\n",
        "    plt.subplot(1, 2, 1)\n",
        "    plt.imshow(original_image, cmap='gray')\n",
        "    plt.title(f'Original Image\\nNumber of Cells: {num_cells_gt}')\n",
        "    plt.axis('off')\n",
        "\n",
        "    plt.subplot(1, 2, 2)\n",
        "    plt.imshow(original_image, cmap='gray')\n",
        "    plt.title('Mask \\n' + num_cells + '\\n' + abs_diff_str)\n",
        "    colors = generate_random_colors(len(masks))  # Generate random colors\n",
        "    for j, v in enumerate(masks):\n",
        "        x = v['bbox'][0] + v['bbox'][2] / 2\n",
        "        y = v['bbox'][1] + v['bbox'][3] / 2\n",
        "        color = colors[j]  # Assign a unique color to each mask\n",
        "        plt.plot(x, y, marker=\"o\", markersize=4, markeredgecolor=\"white\", markerfacecolor=color)\n",
        "    plt.axis('off')\n",
        "\n",
        "    # Save the plot as an image\n",
        "    output_filename = os.path.join(output_folder, f'{image_name}_plot.tiff')\n",
        "    plt.savefig(output_filename, bbox_inches='tight')\n",
        "    plt.close()\n"
      ],
      "metadata": {
        "id": "QGrSZxgv8WMh"
      },
      "execution_count": 9,
      "outputs": []
    },
    {
      "cell_type": "markdown",
      "source": [
        "### End"
      ],
      "metadata": {
        "id": "Hzt_7Voda-px"
      }
    }
  ],
  "metadata": {
    "kernelspec": {
      "display_name": "Python 3",
      "name": "python3"
    },
    "language_info": {
      "codemirror_mode": {
        "name": "ipython",
        "version": 3
      },
      "file_extension": ".py",
      "mimetype": "text/x-python",
      "name": "python",
      "nbconvert_exporter": "python",
      "pygments_lexer": "ipython3",
      "version": "3.8.10"
    },
    "colab": {
      "provenance": [],
      "gpuType": "T4"
    },
    "accelerator": "GPU"
  },
  "nbformat": 4,
  "nbformat_minor": 0
}